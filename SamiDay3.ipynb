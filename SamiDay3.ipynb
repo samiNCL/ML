{
  "nbformat": 4,
  "nbformat_minor": 0,
  "metadata": {
    "colab": {
      "name": "SamiDay3.ipynb",
      "provenance": [],
      "authorship_tag": "ABX9TyNpENcOZH8CJNiqILueCR59",
      "include_colab_link": true
    },
    "kernelspec": {
      "name": "python3",
      "display_name": "Python 3"
    }
  },
  "cells": [
    {
      "cell_type": "markdown",
      "metadata": {
        "id": "view-in-github",
        "colab_type": "text"
      },
      "source": [
        "<a href=\"https://colab.research.google.com/github/samiNCL/ML/blob/main/SamiDay3.ipynb\" target=\"_parent\"><img src=\"https://colab.research.google.com/assets/colab-badge.svg\" alt=\"Open In Colab\"/></a>"
      ]
    },
    {
      "cell_type": "code",
      "metadata": {
        "colab": {
          "resources": {
            "http://localhost:8080/nbextensions/google.colab/files.js": {
              "data": "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",
              "ok": true,
              "headers": [
                [
                  "content-type",
                  "application/javascript"
                ]
              ],
              "status": 200,
              "status_text": ""
            }
          },
          "base_uri": "https://localhost:8080/",
          "height": 55
        },
        "id": "6HilGpR0yVfi",
        "outputId": "09f5810a-2765-4b6d-d32e-e67111275fa4"
      },
      "source": [
        "from google.colab import files\r\n",
        "\r\n",
        "files.upload()\r\n",
        "\r\n"
      ],
      "execution_count": 1,
      "outputs": [
        {
          "output_type": "display_data",
          "data": {
            "text/html": [
              "\n",
              "     <input type=\"file\" id=\"files-b03f7ef8-026a-4416-98f2-e1a05cb6abfa\" name=\"files[]\" multiple disabled\n",
              "        style=\"border:none\" />\n",
              "     <output id=\"result-b03f7ef8-026a-4416-98f2-e1a05cb6abfa\">\n",
              "      Upload widget is only available when the cell has been executed in the\n",
              "      current browser session. Please rerun this cell to enable.\n",
              "      </output>\n",
              "      <script src=\"/nbextensions/google.colab/files.js\"></script> "
            ],
            "text/plain": [
              "<IPython.core.display.HTML object>"
            ]
          },
          "metadata": {
            "tags": []
          }
        },
        {
          "output_type": "execute_result",
          "data": {
            "text/plain": [
              "{}"
            ]
          },
          "metadata": {
            "tags": []
          },
          "execution_count": 1
        }
      ]
    },
    {
      "cell_type": "code",
      "metadata": {
        "id": "ZfXoUnhMysge"
      },
      "source": [
        "import numpy as np\r\n",
        "import scipy.io\r\n",
        "\r\n",
        "\r\n",
        "data = scipy.io.loadmat('PAMAP2.mat')\r\n",
        "Xy_train0 = data['Xy_train']\r\n",
        "Xy_test0 = data['Xy_test']\r\n"
      ],
      "execution_count": 20,
      "outputs": []
    },
    {
      "cell_type": "code",
      "metadata": {
        "colab": {
          "base_uri": "https://localhost:8080/"
        },
        "id": "k5NBPekxyvYO",
        "outputId": "61f3c77b-0f65-430b-f64e-44ef7f4e05ab"
      },
      "source": [
        "print('optional: channel-wise normalisation')\r\n",
        "mn = np.mean(Xy_train0[:,:-1], axis=0)\r\n",
        "std = np.std(Xy_train0[:,:-1], axis=0)\r\n",
        "Xy_train0[:,:-1] = (Xy_train0[:,:-1]-mn)/std\r\n",
        "Xy_test0[:,:-1] = (Xy_test0[:,:-1]-mn)/std\r\n"
      ],
      "execution_count": 21,
      "outputs": [
        {
          "output_type": "stream",
          "text": [
            "optional: channel-wise normalisation\n"
          ],
          "name": "stdout"
        }
      ]
    },
    {
      "cell_type": "code",
      "metadata": {
        "colab": {
          "base_uri": "https://localhost:8080/"
        },
        "id": "5ZaZMQqoy20_",
        "outputId": "c809c943-9b40-445a-dee6-d0842a900102"
      },
      "source": [
        "cNum=12  #in this dataset, therer are 12 activities\r\n",
        "win_len = 100\r\n",
        "dim = Xy_train0.shape[1]-1 #minus the label col\r\n",
        "print(dim)\r\n"
      ],
      "execution_count": 22,
      "outputs": [
        {
          "output_type": "stream",
          "text": [
            "27\n"
          ],
          "name": "stdout"
        }
      ]
    },
    {
      "cell_type": "code",
      "metadata": {
        "id": "RkRDR8GQy7yW"
      },
      "source": [
        "def sliding_window(Xy, percentage=0.5, win_len=100):\r\n",
        "    #print('per')\r\n",
        "    print('overlapping_percentage:  '+str(percentage*100)+'%')\r\n",
        "\r\n",
        "    batch_size0 = int(np.floor(len(Xy)/win_len))\r\n",
        "    #print(batch_size0)\r\n",
        "    Xy0 = Xy[:win_len*batch_size0,:]\r\n",
        "    if percentage==1:\r\n",
        "        print('100% overlapping means no overlapping')\r\n",
        "        return Xy0\r\n",
        "\r\n",
        "    K_fold = int(1/(1-percentage))\r\n",
        "    #print(K_fold)\r\n",
        "    offset = int(np.round(win_len * (1-percentage)))\r\n",
        "    Xy_big = []\r\n",
        "    for k in range(K_fold):\r\n",
        "        #print(k)\r\n",
        "        current_set = Xy0[k*offset:len(Xy0)-(win_len-k*offset),:]\r\n",
        "        #print(len(current_set))\r\n",
        "        Xy_big.append(current_set)\r\n",
        "    return np.concatenate(Xy_big)\r\n",
        "\r\n",
        "def _to_frames(Xy, dim, win_len=100):\r\n",
        "    X3D = np.reshape(Xy[:,:-1], (-1, win_len, dim))\r\n",
        "    y2D = np.reshape(Xy[:,-1],(-1, win_len)).astype(int)\r\n",
        "    y = np.zeros(len(y2D))\r\n",
        "    for i in range(len(y2D)):\r\n",
        "        counts = np.bincount(np.reshape(y2D[i, :], (-1)))\r\n",
        "        y[i] = np.argmax(counts)\r\n",
        "    return X3D, y\r\n"
      ],
      "execution_count": 23,
      "outputs": []
    },
    {
      "cell_type": "code",
      "metadata": {
        "colab": {
          "base_uri": "https://localhost:8080/"
        },
        "id": "z3--AqwRy_4_",
        "outputId": "45cbd72e-119f-4e90-92b4-8fe7338fed75"
      },
      "source": [
        "print('original training data shape', Xy_train0.shape)\r\n",
        "Xy_train = sliding_window(Xy_train0, 0.5, win_len)\r\n",
        "print('after overlapping sliding window', Xy_train.shape)\r\n",
        "X_train0, y_train0 = _to_frames(Xy_train,dim, win_len)\r\n",
        "print('converting to frames (100 samples per window) with size', X_train0.shape)\r\n",
        "\r\n",
        "\r\n",
        "#print(Xy_test0.shape)\r\n",
        "Xy_test = sliding_window(Xy_test0, 0.5, win_len)\r\n",
        "#print(Xy_test.shape)\r\n",
        "X_test0, y_test0 = _to_frames(Xy_test,dim,win_len)\r\n"
      ],
      "execution_count": 24,
      "outputs": [
        {
          "output_type": "stream",
          "text": [
            "original training data shape (473445, 28)\n",
            "overlapping_percentage:  50.0%\n",
            "after overlapping sliding window (946600, 28)\n",
            "converting to frames (100 samples per window) with size (9466, 100, 27)\n",
            "overlapping_percentage:  50.0%\n"
          ],
          "name": "stdout"
        }
      ]
    },
    {
      "cell_type": "code",
      "metadata": {
        "id": "K1HSJHNSzFW_"
      },
      "source": [
        "def building_balanced_DB(X, y, cNum, sample_number):\r\n",
        "    print('each class will have the same sample number')\r\n",
        "    X_new = np.empty([0, win_len, dim])\r\n",
        "    y_new = np.empty([0])\r\n",
        "    for i in range(cNum):\r\n",
        "        if len(X[y==i])<sample_number:\r\n",
        "            print('Error: not enough samples for class '+str(i) +'please choose a smaller number')\r\n",
        "            break\r\n",
        "        else:\r\n",
        "            X_new = np.concatenate((X_new, X[y==i][:sample_number]), axis=0)\r\n",
        "            #print(X_new.shape)\r\n",
        "        \r\n",
        "        y_new = np.concatenate((y_new, y[y==i][:sample_number]), axis=0)\r\n",
        "        #print(y_new)\r\n",
        "    return X_new, y_new\r\n"
      ],
      "execution_count": 25,
      "outputs": []
    },
    {
      "cell_type": "code",
      "metadata": {
        "colab": {
          "base_uri": "https://localhost:8080/"
        },
        "id": "gjkFjSJjzLYn",
        "outputId": "9407857b-4389-41f7-bccf-34e2be226272"
      },
      "source": [
        "print('now it is the balanced data')\r\n",
        "size_per_class_train = 250\r\n",
        "size_per_class_test = 50\r\n",
        "X_train0, y_train0 = building_balanced_DB(X_train0, y_train0, cNum, size_per_class_train)\r\n",
        "X_test0, y_test0 = building_balanced_DB(X_test0, y_test0, cNum, size_per_class_test)\r\n"
      ],
      "execution_count": 26,
      "outputs": [
        {
          "output_type": "stream",
          "text": [
            "now it is the balanced data\n",
            "each class will have the same sample number\n",
            "each class will have the same sample number\n"
          ],
          "name": "stdout"
        }
      ]
    },
    {
      "cell_type": "code",
      "metadata": {
        "colab": {
          "base_uri": "https://localhost:8080/",
          "height": 953
        },
        "id": "8hbWDVCyzWUo",
        "outputId": "2dc85fe8-5a65-4d4c-c0c3-08ccbdf1596a"
      },
      "source": [
        "import matplotlib.pyplot as plt\r\n",
        "%matplotlib inline\r\n",
        "def drawing_pie_chart(percentages, labels, dataset_id):\r\n",
        "    plt.title(dataset_id)\r\n",
        "    color_set = ['yellowgreen', 'gold', 'lightskyblue', 'lightcoral',\r\n",
        "            '#eeeeee','#C44E52', 'green', '#B47CC7','#ffed6f','#777777','#C4AD66','red', \r\n",
        "                  'blue',  'cyan', 'magenta',\r\n",
        "                '#FBC15E','#56B4E9','#4878CF','#FFFEA3' ]\r\n",
        "    \r\n",
        "    labels = labels.copy()\r\n",
        "    for i in range(len(percentages)):\r\n",
        "        labels[i] = labels[i]+'  ('+str(percentages[i])[:4]+'%)'\r\n",
        "    colors = color_set[:len(percentages)]\r\n",
        "    \r\n",
        "    \r\n",
        "    patches, texts = plt.pie(percentages, colors=colors, startangle=90)\r\n",
        "    \r\n",
        "    plt.axis('equal')\r\n",
        "    lgd = plt.legend(labels, loc=(0.9, 0.05), shadow=True, borderaxespad=10.)\r\n",
        "    \r\n",
        "    \r\n",
        "    #plt.savefig('dataset_'+dataset_id+'.eps', bbox_extra_artists=(lgd,), bbox_inches='tight', format='eps', dpi=600)\r\n",
        "    plt.show()\r\n",
        "    \r\n",
        "def calculating_percentages(y_, cNum):\r\n",
        "    percentages = np.zeros(cNum)\r\n",
        "    for i in range(cNum):\r\n",
        "        num = np.sum(y_==i)\r\n",
        "        percentages[i]=100.0*num/len(y_)\r\n",
        "        print('class {}, sample number {}, percentage {:.1f}%'.format(i, num, percentages[i]))\r\n",
        "    return percentages\r\n",
        "\r\n",
        "\r\n",
        "dataset_id = 'PAMAP2'\r\n",
        "labels_PAMAP2 = [r'rope jumping', \r\n",
        "                 r'lying', \r\n",
        "                 r'sitting', \r\n",
        "                 r'standing',\r\n",
        "                 r'walking', \r\n",
        "                 r'running', \r\n",
        "                 r'cycling', \r\n",
        "                 r'nordic walking',\r\n",
        "                 r'ascending stairs', \r\n",
        "                 r'descending stairs', \r\n",
        "                 r'vacuum cleaning', \r\n",
        "                 r'ironing']\r\n",
        "cNum = 12 # 12 classes for PAMAP2\r\n",
        "\r\n",
        "print('----------train_Data---------------')\r\n",
        "percentages_train = calculating_percentages(y_train0, cNum)\r\n",
        "drawing_pie_chart(percentages_train,labels_PAMAP2,dataset_id+'_train')\r\n",
        "\r\n",
        "print('----------testing_Data--------------')\r\n",
        "percentages_test = calculating_percentages(y_test0, cNum)\r\n",
        "drawing_pie_chart(percentages_test,labels_PAMAP2,dataset_id+'_test')\r\n"
      ],
      "execution_count": 27,
      "outputs": [
        {
          "output_type": "stream",
          "text": [
            "----------train_Data---------------\n",
            "class 0, sample number 250, percentage 8.3%\n",
            "class 1, sample number 250, percentage 8.3%\n",
            "class 2, sample number 250, percentage 8.3%\n",
            "class 3, sample number 250, percentage 8.3%\n",
            "class 4, sample number 250, percentage 8.3%\n",
            "class 5, sample number 250, percentage 8.3%\n",
            "class 6, sample number 250, percentage 8.3%\n",
            "class 7, sample number 250, percentage 8.3%\n",
            "class 8, sample number 250, percentage 8.3%\n",
            "class 9, sample number 250, percentage 8.3%\n",
            "class 10, sample number 250, percentage 8.3%\n",
            "class 11, sample number 250, percentage 8.3%\n"
          ],
          "name": "stdout"
        },
        {
          "output_type": "display_data",
          "data": {
            "image/png": "[encoded data removed]",
            "text/plain": [
              "<Figure size 432x288 with 1 Axes>"
            ]
          },
          "metadata": {
            "tags": []
          }
        },
        {
          "output_type": "stream",
          "text": [
            "----------testing_Data--------------\n",
            "class 0, sample number 50, percentage 8.3%\n",
            "class 1, sample number 50, percentage 8.3%\n",
            "class 2, sample number 50, percentage 8.3%\n",
            "class 3, sample number 50, percentage 8.3%\n",
            "class 4, sample number 50, percentage 8.3%\n",
            "class 5, sample number 50, percentage 8.3%\n",
            "class 6, sample number 50, percentage 8.3%\n",
            "class 7, sample number 50, percentage 8.3%\n",
            "class 8, sample number 50, percentage 8.3%\n",
            "class 9, sample number 50, percentage 8.3%\n",
            "class 10, sample number 50, percentage 8.3%\n",
            "class 11, sample number 50, percentage 8.3%\n"
          ],
          "name": "stdout"
        },
        {
          "output_type": "display_data",
          "data": {
            "image/png": "[encoded data removed]",
            "text/plain": [
              "<Figure size 432x288 with 1 Axes>"
            ]
          },
          "metadata": {
            "tags": []
          }
        }
      ]
    },
    {
      "cell_type": "markdown",
      "metadata": {
        "id": "sPemcmC95OSj"
      },
      "source": [
        "**Above was data preparation. Next HAR on raw data.**"
      ]
    },
    {
      "cell_type": "code",
      "metadata": {
        "colab": {
          "base_uri": "https://localhost:8080/"
        },
        "id": "OlOTF-Dm5V8Z",
        "outputId": "c9e0ae2f-9827-4fad-e574-82bf0f6ac3e5"
      },
      "source": [
        "print('original dimension:', X_train0.shape)\r\n",
        "X_train = np.reshape(X_train0, (-1, dim*win_len))\r\n",
        "X_test = np.reshape(X_test0, (-1, dim*win_len))\r\n",
        "print('reshaped dimension:', X_train.shape)\r\n",
        "\r\n",
        "y_train = y_train0.copy()\r\n",
        "y_test = y_test0.copy()\r\n"
      ],
      "execution_count": 28,
      "outputs": [
        {
          "output_type": "stream",
          "text": [
            "original dimension: (3000, 100, 27)\n",
            "reshaped dimension: (3000, 2700)\n"
          ],
          "name": "stdout"
        }
      ]
    },
    {
      "cell_type": "code",
      "metadata": {
        "colab": {
          "base_uri": "https://localhost:8080/"
        },
        "id": "-hAyM0U__EV7",
        "outputId": "812ca1d8-1f5d-4ba7-fdb1-2c47418ed03e"
      },
      "source": [
        "print('original dimension:', X_train0.shape)\r\n",
        "X_train = np.reshape(X_train0, (-1, dim*win_len))\r\n",
        "X_test = np.reshape(X_test0, (-1, dim*win_len))\r\n",
        "print('reshaped dimension:', X_train.shape)\r\n",
        "\r\n",
        "y_train = y_train0.copy()\r\n",
        "y_test = y_test0.copy()\r\n"
      ],
      "execution_count": 29,
      "outputs": [
        {
          "output_type": "stream",
          "text": [
            "original dimension: (3000, 100, 27)\n",
            "reshaped dimension: (3000, 2700)\n"
          ],
          "name": "stdout"
        }
      ]
    },
    {
      "cell_type": "code",
      "metadata": {
        "colab": {
          "base_uri": "https://localhost:8080/"
        },
        "id": "MyJrSbHM_5R1",
        "outputId": "4926e5af-8080-4862-9e94-0ed19361922b"
      },
      "source": [
        "from sklearn.preprocessing import StandardScaler\r\n",
        "scaler = StandardScaler()\r\n",
        "\r\n",
        "scaler.fit(X_train)\r\n",
        "# Apply transform to both the training set and the test set.\r\n",
        "X_train = scaler.transform(X_train)\r\n",
        "X_test = scaler.transform(X_test)\r\n",
        "\r\n",
        "print('feature scaling done!')\r\n"
      ],
      "execution_count": 30,
      "outputs": [
        {
          "output_type": "stream",
          "text": [
            "feature scaling done!\n"
          ],
          "name": "stdout"
        }
      ]
    },
    {
      "cell_type": "code",
      "metadata": {
        "colab": {
          "base_uri": "https://localhost:8080/"
        },
        "id": "RbqUZlrQ_81c",
        "outputId": "24857e27-559d-4e41-8310-e72a19ac08dc"
      },
      "source": [
        "from sklearn.linear_model import LogisticRegression\r\n",
        "from sklearn.metrics import accuracy_score\r\n",
        "\r\n",
        "\r\n",
        "from time import time\r\n",
        "name = ' logistic_regression_classifier '\r\n",
        "default_C = 1\r\n",
        "\r\n",
        "t0 = time()\r\n",
        "clf = LogisticRegression(penalty='l2',C = default_C, max_iter=1000)\r\n",
        "clf.fit(X_train, y_train)\r\n",
        "print('training'+name+'takes {:.2f} seconds'.format(time()-t0))\r\n",
        "\r\n",
        "\r\n",
        "y_pred = clf.predict(X_test)\r\n",
        "acc = accuracy_score(y_test, y_pred)\r\n",
        "print('classification accuracy: {:.2f}'.format(acc))\r\n",
        "print('random  guess  accuracy: {:.2f}'.format(1/cNum))\r\n"
      ],
      "execution_count": 31,
      "outputs": [
        {
          "output_type": "stream",
          "text": [
            "training logistic_regression_classifier takes 114.88 seconds\n",
            "classification accuracy: 0.36\n",
            "random  guess  accuracy: 0.08\n"
          ],
          "name": "stdout"
        }
      ]
    },
    {
      "cell_type": "code",
      "metadata": {
        "colab": {
          "base_uri": "https://localhost:8080/"
        },
        "id": "oRiSRAKGACn9",
        "outputId": "a175cfeb-2fce-4858-a70c-2626347b2173"
      },
      "source": [
        "from sklearn.svm import SVC\r\n",
        "\r\n",
        "t0 = time()\r\n",
        "name = ' linear_SVM '\r\n",
        "\r\n",
        "\r\n",
        "\r\n",
        "clf = SVC(kernel=\"linear\", C=default_C)\r\n",
        "\r\n",
        "\r\n",
        "\r\n",
        "\r\n",
        "clf.fit(X_train, y_train)\r\n",
        "print(name+'training takes {:.2f} seconds'.format(time()-t0))\r\n",
        "y_pred = clf.predict(X_test)\r\n",
        "acc = accuracy_score(y_test, y_pred)\r\n",
        "print(name+'classification accuracy: {:.2f}'.format(acc))\r\n"
      ],
      "execution_count": 32,
      "outputs": [
        {
          "output_type": "stream",
          "text": [
            " linear_SVM training takes 19.88 seconds\n",
            " linear_SVM classification accuracy: 0.34\n"
          ],
          "name": "stdout"
        }
      ]
    },
    {
      "cell_type": "code",
      "metadata": {
        "colab": {
          "base_uri": "https://localhost:8080/"
        },
        "id": "JT5kWJXWAIh9",
        "outputId": "da947f58-d458-45ef-c02e-0219a15b98f7"
      },
      "source": [
        "t0 = time()\r\n",
        "name = ' rbf_SVM '\r\n",
        "\r\n",
        "\r\n",
        "\r\n",
        "clf = SVC(kernel=\"rbf\", C=default_C)\r\n",
        "\r\n",
        "\r\n",
        "\r\n",
        "\r\n",
        "clf.fit(X_train, y_train)\r\n",
        "print(name+'training takes {:.2f} seconds'.format(time()-t0))\r\n",
        "y_pred = clf.predict(X_test)\r\n",
        "acc = accuracy_score(y_test, y_pred)\r\n",
        "print(name+'classification accuracy: {:.2f}'.format(acc))\r\n"
      ],
      "execution_count": 33,
      "outputs": [
        {
          "output_type": "stream",
          "text": [
            " rbf_SVM training takes 33.03 seconds\n",
            " rbf_SVM classification accuracy: 0.77\n"
          ],
          "name": "stdout"
        }
      ]
    },
    {
      "cell_type": "code",
      "metadata": {
        "colab": {
          "base_uri": "https://localhost:8080/"
        },
        "id": "nSEIGcVvALqM",
        "outputId": "9d6da5f1-2583-4ecb-b5df-2f716d889433"
      },
      "source": [
        "from sklearn.tree import DecisionTreeClassifier\r\n",
        "t0 = time()\r\n",
        "name = ' Decision Tree '\r\n",
        "\r\n",
        "\r\n",
        "clf = DecisionTreeClassifier()\r\n",
        "\r\n",
        "\r\n",
        "\r\n",
        "clf.fit(X_train, y_train)\r\n",
        "print(name+'training takes {:.2f} seconds'.format(time()-t0))\r\n",
        "y_pred = clf.predict(X_test)\r\n",
        "acc = accuracy_score(y_test, y_pred)\r\n",
        "print(name+'classification accuracy: {:.2f}'.format(acc))\r\n"
      ],
      "execution_count": 34,
      "outputs": [
        {
          "output_type": "stream",
          "text": [
            " Decision Tree training takes 10.57 seconds\n",
            " Decision Tree classification accuracy: 0.25\n"
          ],
          "name": "stdout"
        }
      ]
    },
    {
      "cell_type": "code",
      "metadata": {
        "colab": {
          "base_uri": "https://localhost:8080/"
        },
        "id": "ATeIP6SXAPmk",
        "outputId": "b4672dbc-5c6d-45cb-8c2a-b3254ace5be8"
      },
      "source": [
        "from sklearn.ensemble import RandomForestClassifier\r\n",
        "t0 = time()\r\n",
        "name = ' Random forest '\r\n",
        "\r\n",
        "\r\n",
        "\r\n",
        "clf = RandomForestClassifier(n_estimators=100)\r\n",
        "\r\n",
        "\r\n",
        "\r\n",
        "clf.fit(X_train, y_train)\r\n",
        "print(name+'training takes {:.2f} seconds'.format(time()-t0))\r\n",
        "y_pred = clf.predict(X_test)\r\n",
        "acc = accuracy_score(y_test, y_pred)\r\n",
        "print(name+'classification accuracy: {:.2f}'.format(acc))\r\n"
      ],
      "execution_count": 35,
      "outputs": [
        {
          "output_type": "stream",
          "text": [
            " Random forest training takes 13.27 seconds\n",
            " Random forest classification accuracy: 0.33\n"
          ],
          "name": "stdout"
        }
      ]
    },
    {
      "cell_type": "code",
      "metadata": {
        "colab": {
          "base_uri": "https://localhost:8080/"
        },
        "id": "0KiEzqQPAUfE",
        "outputId": "fa0719f5-6090-424e-bc95-4b3af2085fe0"
      },
      "source": [
        "from sklearn.neighbors import KNeighborsClassifier\r\n",
        "t0 = time()\r\n",
        "name = ' KNN '\r\n",
        "\r\n",
        "clf = KNeighborsClassifier(5)\r\n",
        "\r\n",
        "\r\n",
        "\r\n",
        "clf.fit(X_train, y_train)\r\n",
        "y_pred = clf.predict(X_test)\r\n",
        "acc = accuracy_score(y_test, y_pred)\r\n",
        "print(name+'classification accuracy: {:.2f}'.format(acc))\r\n",
        "print(name+' takes {:.2f} seconds'.format(time()-t0))\r\n"
      ],
      "execution_count": 36,
      "outputs": [
        {
          "output_type": "stream",
          "text": [
            " KNN classification accuracy: 0.48\n",
            " KNN  takes 11.89 seconds\n"
          ],
          "name": "stdout"
        }
      ]
    },
    {
      "cell_type": "code",
      "metadata": {
        "id": "YqgnvQ2DAYO1"
      },
      "source": [
        "#Next feature eng"
      ],
      "execution_count": null,
      "outputs": []
    },
    {
      "cell_type": "code",
      "metadata": {
        "colab": {
          "base_uri": "https://localhost:8080/"
        },
        "id": "IzDWz6AJ5iWi",
        "outputId": "f1cc7393-6778-4c20-95fc-92fdba8c1b55"
      },
      "source": [
        "from scipy.stats import kurtosis, skew, iqr #, median_abs_deviation \r\n",
        "def _FE(X):\r\n",
        "    X_mean = np.mean(X, axis=1)\r\n",
        "    X_std = np.std(X, axis=1)\r\n",
        "    X_var = np.var(X, axis=1)\r\n",
        "    X_energy = np.sqrt(np.mean(np.power(X, 2), axis=1))\r\n",
        "    X_mad= np.mean(np.abs(X - np.expand_dims(X_mean, axis=1)), axis=1)\r\n",
        "    #X_mad1 = median_abs_deviation(X, axis=1)\r\n",
        "    X_kurtosis = kurtosis(X, axis = 1)\r\n",
        "    X_skew = skew(X, axis = 1)\r\n",
        "    X_iqr = iqr(X, axis = 1)\r\n",
        "    X_max = np.amax(X, axis=1)\r\n",
        "    X_min = np.amin(X, axis=1)\r\n",
        "    \r\n",
        "    return np.concatenate((X_mean \r\n",
        "                           ,X_std\r\n",
        "                           ,X_var\r\n",
        "                           ,X_energy\r\n",
        "                           ,X_mad\r\n",
        "                          # ,X_mad1\r\n",
        "                           ,X_kurtosis\r\n",
        "                           ,X_skew\r\n",
        "                           ,X_iqr\r\n",
        "                           ,X_max\r\n",
        "                           ,X_min\r\n",
        "                          ), axis=1)\r\n",
        "\r\n",
        "\r\n",
        "\r\n",
        "#print('performing feature engineering')\r\n",
        "X_train = _FE(X_train0)\r\n",
        "X_test = _FE(X_test0)\r\n",
        "print('new feature dimension: '+str(X_train.shape[1]))\r\n",
        "y_train = y_train0.copy()\r\n",
        "y_test = y_test0.copy()\r\n"
      ],
      "execution_count": 37,
      "outputs": [
        {
          "output_type": "stream",
          "text": [
            "new feature dimension: 270\n"
          ],
          "name": "stdout"
        }
      ]
    },
    {
      "cell_type": "markdown",
      "metadata": {
        "id": "NMqxsaee-rar"
      },
      "source": [
        "**Feature engineering bellow rather than working on raw data**"
      ]
    },
    {
      "cell_type": "code",
      "metadata": {
        "colab": {
          "base_uri": "https://localhost:8080/"
        },
        "id": "owJEXz9V-qlk",
        "outputId": "35212558-e266-4be3-893e-9ca2afe87add"
      },
      "source": [
        "print('performing feature-wise normalisation!')\r\n",
        "from sklearn.preprocessing import StandardScaler\r\n",
        "scaler = StandardScaler()\r\n",
        "\r\n",
        "scaler.fit(X_train)\r\n",
        "# Apply transform to both the training set and the test set.\r\n",
        "X_train = scaler.transform(X_train)\r\n",
        "X_test = scaler.transform(X_test)\r\n"
      ],
      "execution_count": 38,
      "outputs": [
        {
          "output_type": "stream",
          "text": [
            "performing feature-wise normalisation!\n"
          ],
          "name": "stdout"
        }
      ]
    },
    {
      "cell_type": "code",
      "metadata": {
        "colab": {
          "base_uri": "https://localhost:8080/"
        },
        "id": "Fy3TUfMq-9bb",
        "outputId": "77429512-f58b-4aa4-e91f-f046b05ea98d"
      },
      "source": [
        "from sklearn.model_selection import GridSearchCV\r\n",
        "\r\n",
        "\r\n",
        "print('cross validation...')\r\n",
        "parameters = [{'C': [0.05, 0.1, 0.5, 1, 5, 10]}]\r\n",
        "print('Grid Search for best hyper-parameters...')\r\n",
        "clf = GridSearchCV(LogisticRegression(penalty='l2', max_iter=1000), parameters, cv = 5)\r\n",
        "clf.fit(X_train, y_train)\r\n",
        "\r\n",
        "print('best hyper-parameters:')\r\n",
        "print(clf.best_params_)\r\n",
        "print('-------------------------------------')\r\n",
        "means = clf.cv_results_['mean_test_score']\r\n",
        "stds = clf.cv_results_['std_test_score']\r\n",
        "for mean, std, params in zip(means, stds, clf.cv_results_['params']):\r\n",
        "    print(\"%0.3f (+/-%0.03f) for %r\"\r\n",
        "          % (mean, std, params))\r\n",
        "\r\n"
      ],
      "execution_count": 39,
      "outputs": [
        {
          "output_type": "stream",
          "text": [
            "cross validation...\n",
            "Grid Search for best hyper-parameters...\n",
            "best hyper-parameters:\n",
            "{'C': 0.05}\n",
            "-------------------------------------\n",
            "0.900 (+/-0.046) for {'C': 0.05}\n",
            "0.898 (+/-0.042) for {'C': 0.1}\n",
            "0.885 (+/-0.044) for {'C': 0.5}\n",
            "0.881 (+/-0.042) for {'C': 1}\n",
            "0.874 (+/-0.043) for {'C': 5}\n",
            "0.871 (+/-0.043) for {'C': 10}\n"
          ],
          "name": "stdout"
        }
      ]
    },
    {
      "cell_type": "code",
      "metadata": {
        "colab": {
          "base_uri": "https://localhost:8080/"
        },
        "id": "pG57ynJwCrtn",
        "outputId": "082ca853-8264-475d-b79f-1e9cb546aa61"
      },
      "source": [
        "from sklearn.model_selection import GridSearchCV\r\n",
        "\r\n",
        "\r\n",
        "print('cross validation...')\r\n",
        "parameters = [{'C': [0.05, 0.1, 0.5, 1, 5, 10]}]\r\n",
        "print('Grid Search for best hyper-parameters...')\r\n",
        "clf = GridSearchCV(LogisticRegression(penalty='l2', max_iter=1000), parameters, cv = 5)\r\n",
        "clf.fit(X_train, y_train)\r\n",
        "\r\n",
        "print('best hyper-parameters:')\r\n",
        "print(clf.best_params_)\r\n",
        "print('-------------------------------------')\r\n",
        "means = clf.cv_results_['mean_test_score']\r\n",
        "stds = clf.cv_results_['std_test_score']\r\n",
        "for mean, std, params in zip(means, stds, clf.cv_results_['params']):\r\n",
        "    print(\"%0.3f (+/-%0.03f) for %r\"\r\n",
        "          % (mean, std, params))\r\n"
      ],
      "execution_count": 40,
      "outputs": [
        {
          "output_type": "stream",
          "text": [
            "cross validation...\n",
            "Grid Search for best hyper-parameters...\n",
            "best hyper-parameters:\n",
            "{'C': 0.05}\n",
            "-------------------------------------\n",
            "0.900 (+/-0.046) for {'C': 0.05}\n",
            "0.898 (+/-0.042) for {'C': 0.1}\n",
            "0.885 (+/-0.044) for {'C': 0.5}\n",
            "0.881 (+/-0.042) for {'C': 1}\n",
            "0.874 (+/-0.043) for {'C': 5}\n",
            "0.871 (+/-0.043) for {'C': 10}\n"
          ],
          "name": "stdout"
        }
      ]
    },
    {
      "cell_type": "code",
      "metadata": {
        "colab": {
          "base_uri": "https://localhost:8080/"
        },
        "id": "QPiUuvH2Dd8W",
        "outputId": "9a5dd3f3-1a2c-4d98-f4e7-0677ed453496"
      },
      "source": [
        "name = 'logistic regression'\r\n",
        "print('now with the optimal hyper-parameter C')\r\n",
        "Optimal_C = 0.05\r\n",
        "\r\n",
        "clf = LogisticRegression(penalty='l2',C = Optimal_C, max_iter=1000)\r\n",
        "clf.fit(X_train, y_train)\r\n",
        "y_pred = clf.predict(X_test)\r\n",
        "acc = accuracy_score(y_test, y_pred)\r\n",
        "print(name+'classification accuracy: {:.2f}'.format(acc))\r\n"
      ],
      "execution_count": 41,
      "outputs": [
        {
          "output_type": "stream",
          "text": [
            "now with the optimal hyper-parameter C\n",
            "logistic regressionclassification accuracy: 0.85\n"
          ],
          "name": "stdout"
        }
      ]
    }
  ]
}